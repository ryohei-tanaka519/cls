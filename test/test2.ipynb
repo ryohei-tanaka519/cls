{
 "metadata": {
  "language_info": {
   "codemirror_mode": {
    "name": "ipython",
    "version": 3
   },
   "file_extension": ".py",
   "mimetype": "text/x-python",
   "name": "python",
   "nbconvert_exporter": "python",
   "pygments_lexer": "ipython3",
   "version": "3.7.6-final"
  },
  "orig_nbformat": 2,
  "kernelspec": {
   "name": "python3",
   "display_name": "Python 3"
  }
 },
 "nbformat": 4,
 "nbformat_minor": 2,
 "cells": [
  {
   "cell_type": "code",
   "execution_count": 36,
   "metadata": {},
   "outputs": [],
   "source": [
    "import numpy as np\n",
    "import pandas as pd\n",
    "import datetime\n"
   ]
  },
  {
   "cell_type": "code",
   "execution_count": 33,
   "metadata": {},
   "outputs": [],
   "source": [
    "df = pd.read_json('./USJPEUJP5minutes_2020-03-18_2020-06-30.json')\n",
    "df_EURJPY = pd.read_csv('./DAT_MT_EURJPY_M1_202006.csv', names=('day', 'time', 'open', 'high','low','close','unknown'))"
   ]
  },
  {
   "cell_type": "code",
   "execution_count": 27,
   "metadata": {},
   "outputs": [
    {
     "output_type": "execute_result",
     "data": {
      "text/plain": [
       "      currency instrument fx_business_date london_date  hour  minute  \\\n",
       "0       EURJPY        SPT       2020-03-18  2020-03-18     0       0   \n",
       "1       USDJPY        SPT       2020-03-18  2020-03-18     0       0   \n",
       "2       EURJPY        SPT       2020-03-18  2020-03-18     0       5   \n",
       "3       USDJPY        SPT       2020-03-18  2020-03-18     0       5   \n",
       "4       EURJPY        SPT       2020-03-18  2020-03-18     0      10   \n",
       "...        ...        ...              ...         ...   ...     ...   \n",
       "43195   USDJPY        SPT       2020-06-30  2020-06-29    23      45   \n",
       "43196   EURJPY        SPT       2020-06-30  2020-06-29    23      50   \n",
       "43197   USDJPY        SPT       2020-06-30  2020-06-29    23      50   \n",
       "43198   EURJPY        SPT       2020-06-30  2020-06-29    23      55   \n",
       "43199   USDJPY        SPT       2020-06-30  2020-06-29    23      55   \n",
       "\n",
       "       volume_matched  volume_matched_unmatched  trades_matched  \\\n",
       "0        5.368076e+07              8.954540e+07              74   \n",
       "1        2.789257e+08              4.157174e+08             290   \n",
       "2        3.691365e+06              2.411729e+07               7   \n",
       "3        1.304380e+08              2.272236e+08             196   \n",
       "4        1.187958e+07              2.971163e+07              23   \n",
       "...               ...                       ...             ...   \n",
       "43195    2.203549e+07              3.701949e+07              27   \n",
       "43196    6.318004e+05              1.756000e+06               5   \n",
       "43197    1.900686e+07              2.274279e+07              23   \n",
       "43198    0.000000e+00              4.069604e+06               0   \n",
       "43199    4.461773e+07              7.711173e+07              58   \n",
       "\n",
       "       trades_matched_unmatched  \n",
       "0                           111  \n",
       "1                           433  \n",
       "2                            28  \n",
       "3                           325  \n",
       "4                            38  \n",
       "...                         ...  \n",
       "43195                        64  \n",
       "43196                         6  \n",
       "43197                        32  \n",
       "43198                         6  \n",
       "43199                       112  \n",
       "\n",
       "[43200 rows x 10 columns]"
      ],
      "text/html": "<div>\n<style scoped>\n    .dataframe tbody tr th:only-of-type {\n        vertical-align: middle;\n    }\n\n    .dataframe tbody tr th {\n        vertical-align: top;\n    }\n\n    .dataframe thead th {\n        text-align: right;\n    }\n</style>\n<table border=\"1\" class=\"dataframe\">\n  <thead>\n    <tr style=\"text-align: right;\">\n      <th></th>\n      <th>currency</th>\n      <th>instrument</th>\n      <th>fx_business_date</th>\n      <th>london_date</th>\n      <th>hour</th>\n      <th>minute</th>\n      <th>volume_matched</th>\n      <th>volume_matched_unmatched</th>\n      <th>trades_matched</th>\n      <th>trades_matched_unmatched</th>\n    </tr>\n  </thead>\n  <tbody>\n    <tr>\n      <th>0</th>\n      <td>EURJPY</td>\n      <td>SPT</td>\n      <td>2020-03-18</td>\n      <td>2020-03-18</td>\n      <td>0</td>\n      <td>0</td>\n      <td>5.368076e+07</td>\n      <td>8.954540e+07</td>\n      <td>74</td>\n      <td>111</td>\n    </tr>\n    <tr>\n      <th>1</th>\n      <td>USDJPY</td>\n      <td>SPT</td>\n      <td>2020-03-18</td>\n      <td>2020-03-18</td>\n      <td>0</td>\n      <td>0</td>\n      <td>2.789257e+08</td>\n      <td>4.157174e+08</td>\n      <td>290</td>\n      <td>433</td>\n    </tr>\n    <tr>\n      <th>2</th>\n      <td>EURJPY</td>\n      <td>SPT</td>\n      <td>2020-03-18</td>\n      <td>2020-03-18</td>\n      <td>0</td>\n      <td>5</td>\n      <td>3.691365e+06</td>\n      <td>2.411729e+07</td>\n      <td>7</td>\n      <td>28</td>\n    </tr>\n    <tr>\n      <th>3</th>\n      <td>USDJPY</td>\n      <td>SPT</td>\n      <td>2020-03-18</td>\n      <td>2020-03-18</td>\n      <td>0</td>\n      <td>5</td>\n      <td>1.304380e+08</td>\n      <td>2.272236e+08</td>\n      <td>196</td>\n      <td>325</td>\n    </tr>\n    <tr>\n      <th>4</th>\n      <td>EURJPY</td>\n      <td>SPT</td>\n      <td>2020-03-18</td>\n      <td>2020-03-18</td>\n      <td>0</td>\n      <td>10</td>\n      <td>1.187958e+07</td>\n      <td>2.971163e+07</td>\n      <td>23</td>\n      <td>38</td>\n    </tr>\n    <tr>\n      <th>...</th>\n      <td>...</td>\n      <td>...</td>\n      <td>...</td>\n      <td>...</td>\n      <td>...</td>\n      <td>...</td>\n      <td>...</td>\n      <td>...</td>\n      <td>...</td>\n      <td>...</td>\n    </tr>\n    <tr>\n      <th>43195</th>\n      <td>USDJPY</td>\n      <td>SPT</td>\n      <td>2020-06-30</td>\n      <td>2020-06-29</td>\n      <td>23</td>\n      <td>45</td>\n      <td>2.203549e+07</td>\n      <td>3.701949e+07</td>\n      <td>27</td>\n      <td>64</td>\n    </tr>\n    <tr>\n      <th>43196</th>\n      <td>EURJPY</td>\n      <td>SPT</td>\n      <td>2020-06-30</td>\n      <td>2020-06-29</td>\n      <td>23</td>\n      <td>50</td>\n      <td>6.318004e+05</td>\n      <td>1.756000e+06</td>\n      <td>5</td>\n      <td>6</td>\n    </tr>\n    <tr>\n      <th>43197</th>\n      <td>USDJPY</td>\n      <td>SPT</td>\n      <td>2020-06-30</td>\n      <td>2020-06-29</td>\n      <td>23</td>\n      <td>50</td>\n      <td>1.900686e+07</td>\n      <td>2.274279e+07</td>\n      <td>23</td>\n      <td>32</td>\n    </tr>\n    <tr>\n      <th>43198</th>\n      <td>EURJPY</td>\n      <td>SPT</td>\n      <td>2020-06-30</td>\n      <td>2020-06-29</td>\n      <td>23</td>\n      <td>55</td>\n      <td>0.000000e+00</td>\n      <td>4.069604e+06</td>\n      <td>0</td>\n      <td>6</td>\n    </tr>\n    <tr>\n      <th>43199</th>\n      <td>USDJPY</td>\n      <td>SPT</td>\n      <td>2020-06-30</td>\n      <td>2020-06-29</td>\n      <td>23</td>\n      <td>55</td>\n      <td>4.461773e+07</td>\n      <td>7.711173e+07</td>\n      <td>58</td>\n      <td>112</td>\n    </tr>\n  </tbody>\n</table>\n<p>43200 rows × 10 columns</p>\n</div>"
     },
     "metadata": {},
     "execution_count": 27
    }
   ],
   "source": [
    "df"
   ]
  },
  {
   "cell_type": "code",
   "execution_count": 34,
   "metadata": {},
   "outputs": [
    {
     "output_type": "execute_result",
     "data": {
      "text/plain": [
       "              day   time     open     high      low    close  unknown\n",
       "0      2020.06.01  00:00  119.830  119.846  119.820  119.846        0\n",
       "1      2020.06.01  00:01  119.845  119.868  119.842  119.868        0\n",
       "2      2020.06.01  00:02  119.868  119.883  119.865  119.883        0\n",
       "3      2020.06.01  00:03  119.881  119.895  119.878  119.885        0\n",
       "4      2020.06.01  00:04  119.885  119.895  119.884  119.895        0\n",
       "...           ...    ...      ...      ...      ...      ...      ...\n",
       "31618  2020.06.30  23:54  120.952  120.952  120.944  120.944        0\n",
       "31619  2020.06.30  23:55  120.944  120.944  120.935  120.935        0\n",
       "31620  2020.06.30  23:56  120.935  120.935  120.913  120.917        0\n",
       "31621  2020.06.30  23:57  120.917  120.917  120.866  120.873        0\n",
       "31622  2020.06.30  23:58  120.874  120.897  120.865  120.890        0\n",
       "\n",
       "[31623 rows x 7 columns]"
      ],
      "text/html": "<div>\n<style scoped>\n    .dataframe tbody tr th:only-of-type {\n        vertical-align: middle;\n    }\n\n    .dataframe tbody tr th {\n        vertical-align: top;\n    }\n\n    .dataframe thead th {\n        text-align: right;\n    }\n</style>\n<table border=\"1\" class=\"dataframe\">\n  <thead>\n    <tr style=\"text-align: right;\">\n      <th></th>\n      <th>day</th>\n      <th>time</th>\n      <th>open</th>\n      <th>high</th>\n      <th>low</th>\n      <th>close</th>\n      <th>unknown</th>\n    </tr>\n  </thead>\n  <tbody>\n    <tr>\n      <th>0</th>\n      <td>2020.06.01</td>\n      <td>00:00</td>\n      <td>119.830</td>\n      <td>119.846</td>\n      <td>119.820</td>\n      <td>119.846</td>\n      <td>0</td>\n    </tr>\n    <tr>\n      <th>1</th>\n      <td>2020.06.01</td>\n      <td>00:01</td>\n      <td>119.845</td>\n      <td>119.868</td>\n      <td>119.842</td>\n      <td>119.868</td>\n      <td>0</td>\n    </tr>\n    <tr>\n      <th>2</th>\n      <td>2020.06.01</td>\n      <td>00:02</td>\n      <td>119.868</td>\n      <td>119.883</td>\n      <td>119.865</td>\n      <td>119.883</td>\n      <td>0</td>\n    </tr>\n    <tr>\n      <th>3</th>\n      <td>2020.06.01</td>\n      <td>00:03</td>\n      <td>119.881</td>\n      <td>119.895</td>\n      <td>119.878</td>\n      <td>119.885</td>\n      <td>0</td>\n    </tr>\n    <tr>\n      <th>4</th>\n      <td>2020.06.01</td>\n      <td>00:04</td>\n      <td>119.885</td>\n      <td>119.895</td>\n      <td>119.884</td>\n      <td>119.895</td>\n      <td>0</td>\n    </tr>\n    <tr>\n      <th>...</th>\n      <td>...</td>\n      <td>...</td>\n      <td>...</td>\n      <td>...</td>\n      <td>...</td>\n      <td>...</td>\n      <td>...</td>\n    </tr>\n    <tr>\n      <th>31618</th>\n      <td>2020.06.30</td>\n      <td>23:54</td>\n      <td>120.952</td>\n      <td>120.952</td>\n      <td>120.944</td>\n      <td>120.944</td>\n      <td>0</td>\n    </tr>\n    <tr>\n      <th>31619</th>\n      <td>2020.06.30</td>\n      <td>23:55</td>\n      <td>120.944</td>\n      <td>120.944</td>\n      <td>120.935</td>\n      <td>120.935</td>\n      <td>0</td>\n    </tr>\n    <tr>\n      <th>31620</th>\n      <td>2020.06.30</td>\n      <td>23:56</td>\n      <td>120.935</td>\n      <td>120.935</td>\n      <td>120.913</td>\n      <td>120.917</td>\n      <td>0</td>\n    </tr>\n    <tr>\n      <th>31621</th>\n      <td>2020.06.30</td>\n      <td>23:57</td>\n      <td>120.917</td>\n      <td>120.917</td>\n      <td>120.866</td>\n      <td>120.873</td>\n      <td>0</td>\n    </tr>\n    <tr>\n      <th>31622</th>\n      <td>2020.06.30</td>\n      <td>23:58</td>\n      <td>120.874</td>\n      <td>120.897</td>\n      <td>120.865</td>\n      <td>120.890</td>\n      <td>0</td>\n    </tr>\n  </tbody>\n</table>\n<p>31623 rows × 7 columns</p>\n</div>"
     },
     "metadata": {},
     "execution_count": 34
    }
   ],
   "source": [
    "df_EURJPY"
   ]
  },
  {
   "cell_type": "code",
   "execution_count": null,
   "metadata": {},
   "outputs": [],
   "source": [
    "df_EURJPY = df_EURJPY"
   ]
  },
  {
   "cell_type": "code",
   "execution_count": 21,
   "metadata": {},
   "outputs": [
    {
     "output_type": "execute_result",
     "data": {
      "text/plain": [
       "      currency instrument fx_business_date london_date  hour  minute  \\\n",
       "0       EURJPY        SPT       2020-03-18  2020-03-18     0       0   \n",
       "2       EURJPY        SPT       2020-03-18  2020-03-18     0       5   \n",
       "4       EURJPY        SPT       2020-03-18  2020-03-18     0      10   \n",
       "6       EURJPY        SPT       2020-03-18  2020-03-18     0      15   \n",
       "8       EURJPY        SPT       2020-03-18  2020-03-18     0      20   \n",
       "...        ...        ...              ...         ...   ...     ...   \n",
       "43190   EURJPY        SPT       2020-06-30  2020-06-29    23      35   \n",
       "43192   EURJPY        SPT       2020-06-30  2020-06-29    23      40   \n",
       "43194   EURJPY        SPT       2020-06-30  2020-06-29    23      45   \n",
       "43196   EURJPY        SPT       2020-06-30  2020-06-29    23      50   \n",
       "43198   EURJPY        SPT       2020-06-30  2020-06-29    23      55   \n",
       "\n",
       "       volume_matched  volume_matched_unmatched  trades_matched  \\\n",
       "0         53680756.53               89545397.73              74   \n",
       "2          3691365.00               24117285.30               7   \n",
       "4         11879583.90               29711631.60              23   \n",
       "6         16151650.20               28168971.60              33   \n",
       "8          5418042.30               12277369.80              10   \n",
       "...               ...                       ...             ...   \n",
       "43190      3507504.00               13737724.00               7   \n",
       "43192      1349040.00               10688893.60               2   \n",
       "43194      1686300.00                5508580.00               2   \n",
       "43196       631800.40                1756000.40               5   \n",
       "43198            0.00                4069604.00               0   \n",
       "\n",
       "       trades_matched_unmatched  \n",
       "0                           111  \n",
       "2                            28  \n",
       "4                            38  \n",
       "6                            55  \n",
       "8                            21  \n",
       "...                         ...  \n",
       "43190                        14  \n",
       "43192                        13  \n",
       "43194                         8  \n",
       "43196                         6  \n",
       "43198                         6  \n",
       "\n",
       "[21600 rows x 10 columns]"
      ],
      "text/html": "<div>\n<style scoped>\n    .dataframe tbody tr th:only-of-type {\n        vertical-align: middle;\n    }\n\n    .dataframe tbody tr th {\n        vertical-align: top;\n    }\n\n    .dataframe thead th {\n        text-align: right;\n    }\n</style>\n<table border=\"1\" class=\"dataframe\">\n  <thead>\n    <tr style=\"text-align: right;\">\n      <th></th>\n      <th>currency</th>\n      <th>instrument</th>\n      <th>fx_business_date</th>\n      <th>london_date</th>\n      <th>hour</th>\n      <th>minute</th>\n      <th>volume_matched</th>\n      <th>volume_matched_unmatched</th>\n      <th>trades_matched</th>\n      <th>trades_matched_unmatched</th>\n    </tr>\n  </thead>\n  <tbody>\n    <tr>\n      <th>0</th>\n      <td>EURJPY</td>\n      <td>SPT</td>\n      <td>2020-03-18</td>\n      <td>2020-03-18</td>\n      <td>0</td>\n      <td>0</td>\n      <td>53680756.53</td>\n      <td>89545397.73</td>\n      <td>74</td>\n      <td>111</td>\n    </tr>\n    <tr>\n      <th>2</th>\n      <td>EURJPY</td>\n      <td>SPT</td>\n      <td>2020-03-18</td>\n      <td>2020-03-18</td>\n      <td>0</td>\n      <td>5</td>\n      <td>3691365.00</td>\n      <td>24117285.30</td>\n      <td>7</td>\n      <td>28</td>\n    </tr>\n    <tr>\n      <th>4</th>\n      <td>EURJPY</td>\n      <td>SPT</td>\n      <td>2020-03-18</td>\n      <td>2020-03-18</td>\n      <td>0</td>\n      <td>10</td>\n      <td>11879583.90</td>\n      <td>29711631.60</td>\n      <td>23</td>\n      <td>38</td>\n    </tr>\n    <tr>\n      <th>6</th>\n      <td>EURJPY</td>\n      <td>SPT</td>\n      <td>2020-03-18</td>\n      <td>2020-03-18</td>\n      <td>0</td>\n      <td>15</td>\n      <td>16151650.20</td>\n      <td>28168971.60</td>\n      <td>33</td>\n      <td>55</td>\n    </tr>\n    <tr>\n      <th>8</th>\n      <td>EURJPY</td>\n      <td>SPT</td>\n      <td>2020-03-18</td>\n      <td>2020-03-18</td>\n      <td>0</td>\n      <td>20</td>\n      <td>5418042.30</td>\n      <td>12277369.80</td>\n      <td>10</td>\n      <td>21</td>\n    </tr>\n    <tr>\n      <th>...</th>\n      <td>...</td>\n      <td>...</td>\n      <td>...</td>\n      <td>...</td>\n      <td>...</td>\n      <td>...</td>\n      <td>...</td>\n      <td>...</td>\n      <td>...</td>\n      <td>...</td>\n    </tr>\n    <tr>\n      <th>43190</th>\n      <td>EURJPY</td>\n      <td>SPT</td>\n      <td>2020-06-30</td>\n      <td>2020-06-29</td>\n      <td>23</td>\n      <td>35</td>\n      <td>3507504.00</td>\n      <td>13737724.00</td>\n      <td>7</td>\n      <td>14</td>\n    </tr>\n    <tr>\n      <th>43192</th>\n      <td>EURJPY</td>\n      <td>SPT</td>\n      <td>2020-06-30</td>\n      <td>2020-06-29</td>\n      <td>23</td>\n      <td>40</td>\n      <td>1349040.00</td>\n      <td>10688893.60</td>\n      <td>2</td>\n      <td>13</td>\n    </tr>\n    <tr>\n      <th>43194</th>\n      <td>EURJPY</td>\n      <td>SPT</td>\n      <td>2020-06-30</td>\n      <td>2020-06-29</td>\n      <td>23</td>\n      <td>45</td>\n      <td>1686300.00</td>\n      <td>5508580.00</td>\n      <td>2</td>\n      <td>8</td>\n    </tr>\n    <tr>\n      <th>43196</th>\n      <td>EURJPY</td>\n      <td>SPT</td>\n      <td>2020-06-30</td>\n      <td>2020-06-29</td>\n      <td>23</td>\n      <td>50</td>\n      <td>631800.40</td>\n      <td>1756000.40</td>\n      <td>5</td>\n      <td>6</td>\n    </tr>\n    <tr>\n      <th>43198</th>\n      <td>EURJPY</td>\n      <td>SPT</td>\n      <td>2020-06-30</td>\n      <td>2020-06-29</td>\n      <td>23</td>\n      <td>55</td>\n      <td>0.00</td>\n      <td>4069604.00</td>\n      <td>0</td>\n      <td>6</td>\n    </tr>\n  </tbody>\n</table>\n<p>21600 rows × 10 columns</p>\n</div>"
     },
     "metadata": {},
     "execution_count": 21
    }
   ],
   "source": [
    "df_EURJPY_volume = df[df['currency'].isin(['EURJPY'])]\n",
    "df_USDJPY_volume = df[df['currency'].isin(['USDJPY'])]\n",
    "df_EURJPY_volume"
   ]
  },
  {
   "cell_type": "code",
   "execution_count": 37,
   "metadata": {},
   "outputs": [
    {
     "output_type": "execute_result",
     "data": {
      "text/plain": [
       "datetime.datetime(2020, 6, 30, 0, 5)"
      ]
     },
     "metadata": {},
     "execution_count": 37
    }
   ],
   "source": [
    "# 文字列をdatetimeの型に変換できる\n",
    "date_str = '2020-06-30 0:5'\n",
    "date_format = '%Y-%m-%d %H:%M'\n",
    "datetime.datetime.strptime(date_str, date_format)"
   ]
  },
  {
   "cell_type": "code",
   "execution_count": 38,
   "metadata": {},
   "outputs": [],
   "source": [
    "def get_datetime(x):\n",
    "    date, hour, minute = x\n",
    "    date_str = f'{date} {hour}:{minute}'\n",
    "    date_format = '%Y-%m-%d %H:%M'\n",
    "    dt = datetime.datetime.strptime(date_str, date_format)\n",
    "    return dt\n"
   ]
  },
  {
   "cell_type": "code",
   "execution_count": 52,
   "metadata": {},
   "outputs": [],
   "source": [
    "def get_datetime2(x):\n",
    "    date, time = x\n",
    "    date_str = f'{date} {time}'\n",
    "    date_format = '%Y.%m.%d %H:%M'\n",
    "    dt = datetime.datetime.strptime(date_str, date_format)\n",
    "    return dt"
   ]
  },
  {
   "cell_type": "code",
   "execution_count": 39,
   "metadata": {},
   "outputs": [],
   "source": [
    "df_EURJPY_volume['fx_business_date_datetime'] = df_EURJPY_volume[['fx_business_date', 'hour', 'minute']].apply(get_datetime, axis=1)\n",
    "df_EURJPY_volume['london_date_datetime'] = df_EURJPY_volume[['london_date', 'hour', 'minute']].apply(get_datetime, axis=1)\n",
    "\n",
    "df_EURJPY_volume = df_EURJPY_volume.sort_values(by='fx_business_date_datetime')"
   ]
  },
  {
   "cell_type": "code",
   "execution_count": 40,
   "metadata": {},
   "outputs": [
    {
     "output_type": "execute_result",
     "data": {
      "text/plain": [
       "      currency instrument fx_business_date london_date  hour  minute  \\\n",
       "0       EURJPY        SPT       2020-03-18  2020-03-18     0       0   \n",
       "2       EURJPY        SPT       2020-03-18  2020-03-18     0       5   \n",
       "4       EURJPY        SPT       2020-03-18  2020-03-18     0      10   \n",
       "6       EURJPY        SPT       2020-03-18  2020-03-18     0      15   \n",
       "8       EURJPY        SPT       2020-03-18  2020-03-18     0      20   \n",
       "...        ...        ...              ...         ...   ...     ...   \n",
       "43190   EURJPY        SPT       2020-06-30  2020-06-29    23      35   \n",
       "43192   EURJPY        SPT       2020-06-30  2020-06-29    23      40   \n",
       "43194   EURJPY        SPT       2020-06-30  2020-06-29    23      45   \n",
       "43196   EURJPY        SPT       2020-06-30  2020-06-29    23      50   \n",
       "43198   EURJPY        SPT       2020-06-30  2020-06-29    23      55   \n",
       "\n",
       "       volume_matched  volume_matched_unmatched  trades_matched  \\\n",
       "0         53680756.53               89545397.73              74   \n",
       "2          3691365.00               24117285.30               7   \n",
       "4         11879583.90               29711631.60              23   \n",
       "6         16151650.20               28168971.60              33   \n",
       "8          5418042.30               12277369.80              10   \n",
       "...               ...                       ...             ...   \n",
       "43190      3507504.00               13737724.00               7   \n",
       "43192      1349040.00               10688893.60               2   \n",
       "43194      1686300.00                5508580.00               2   \n",
       "43196       631800.40                1756000.40               5   \n",
       "43198            0.00                4069604.00               0   \n",
       "\n",
       "       trades_matched_unmatched fx_business_date_datetime london_date_datetime  \n",
       "0                           111       2020-03-18 00:00:00  2020-03-18 00:00:00  \n",
       "2                            28       2020-03-18 00:05:00  2020-03-18 00:05:00  \n",
       "4                            38       2020-03-18 00:10:00  2020-03-18 00:10:00  \n",
       "6                            55       2020-03-18 00:15:00  2020-03-18 00:15:00  \n",
       "8                            21       2020-03-18 00:20:00  2020-03-18 00:20:00  \n",
       "...                         ...                       ...                  ...  \n",
       "43190                        14       2020-06-30 23:35:00  2020-06-29 23:35:00  \n",
       "43192                        13       2020-06-30 23:40:00  2020-06-29 23:40:00  \n",
       "43194                         8       2020-06-30 23:45:00  2020-06-29 23:45:00  \n",
       "43196                         6       2020-06-30 23:50:00  2020-06-29 23:50:00  \n",
       "43198                         6       2020-06-30 23:55:00  2020-06-29 23:55:00  \n",
       "\n",
       "[21600 rows x 12 columns]"
      ],
      "text/html": "<div>\n<style scoped>\n    .dataframe tbody tr th:only-of-type {\n        vertical-align: middle;\n    }\n\n    .dataframe tbody tr th {\n        vertical-align: top;\n    }\n\n    .dataframe thead th {\n        text-align: right;\n    }\n</style>\n<table border=\"1\" class=\"dataframe\">\n  <thead>\n    <tr style=\"text-align: right;\">\n      <th></th>\n      <th>currency</th>\n      <th>instrument</th>\n      <th>fx_business_date</th>\n      <th>london_date</th>\n      <th>hour</th>\n      <th>minute</th>\n      <th>volume_matched</th>\n      <th>volume_matched_unmatched</th>\n      <th>trades_matched</th>\n      <th>trades_matched_unmatched</th>\n      <th>fx_business_date_datetime</th>\n      <th>london_date_datetime</th>\n    </tr>\n  </thead>\n  <tbody>\n    <tr>\n      <th>0</th>\n      <td>EURJPY</td>\n      <td>SPT</td>\n      <td>2020-03-18</td>\n      <td>2020-03-18</td>\n      <td>0</td>\n      <td>0</td>\n      <td>53680756.53</td>\n      <td>89545397.73</td>\n      <td>74</td>\n      <td>111</td>\n      <td>2020-03-18 00:00:00</td>\n      <td>2020-03-18 00:00:00</td>\n    </tr>\n    <tr>\n      <th>2</th>\n      <td>EURJPY</td>\n      <td>SPT</td>\n      <td>2020-03-18</td>\n      <td>2020-03-18</td>\n      <td>0</td>\n      <td>5</td>\n      <td>3691365.00</td>\n      <td>24117285.30</td>\n      <td>7</td>\n      <td>28</td>\n      <td>2020-03-18 00:05:00</td>\n      <td>2020-03-18 00:05:00</td>\n    </tr>\n    <tr>\n      <th>4</th>\n      <td>EURJPY</td>\n      <td>SPT</td>\n      <td>2020-03-18</td>\n      <td>2020-03-18</td>\n      <td>0</td>\n      <td>10</td>\n      <td>11879583.90</td>\n      <td>29711631.60</td>\n      <td>23</td>\n      <td>38</td>\n      <td>2020-03-18 00:10:00</td>\n      <td>2020-03-18 00:10:00</td>\n    </tr>\n    <tr>\n      <th>6</th>\n      <td>EURJPY</td>\n      <td>SPT</td>\n      <td>2020-03-18</td>\n      <td>2020-03-18</td>\n      <td>0</td>\n      <td>15</td>\n      <td>16151650.20</td>\n      <td>28168971.60</td>\n      <td>33</td>\n      <td>55</td>\n      <td>2020-03-18 00:15:00</td>\n      <td>2020-03-18 00:15:00</td>\n    </tr>\n    <tr>\n      <th>8</th>\n      <td>EURJPY</td>\n      <td>SPT</td>\n      <td>2020-03-18</td>\n      <td>2020-03-18</td>\n      <td>0</td>\n      <td>20</td>\n      <td>5418042.30</td>\n      <td>12277369.80</td>\n      <td>10</td>\n      <td>21</td>\n      <td>2020-03-18 00:20:00</td>\n      <td>2020-03-18 00:20:00</td>\n    </tr>\n    <tr>\n      <th>...</th>\n      <td>...</td>\n      <td>...</td>\n      <td>...</td>\n      <td>...</td>\n      <td>...</td>\n      <td>...</td>\n      <td>...</td>\n      <td>...</td>\n      <td>...</td>\n      <td>...</td>\n      <td>...</td>\n      <td>...</td>\n    </tr>\n    <tr>\n      <th>43190</th>\n      <td>EURJPY</td>\n      <td>SPT</td>\n      <td>2020-06-30</td>\n      <td>2020-06-29</td>\n      <td>23</td>\n      <td>35</td>\n      <td>3507504.00</td>\n      <td>13737724.00</td>\n      <td>7</td>\n      <td>14</td>\n      <td>2020-06-30 23:35:00</td>\n      <td>2020-06-29 23:35:00</td>\n    </tr>\n    <tr>\n      <th>43192</th>\n      <td>EURJPY</td>\n      <td>SPT</td>\n      <td>2020-06-30</td>\n      <td>2020-06-29</td>\n      <td>23</td>\n      <td>40</td>\n      <td>1349040.00</td>\n      <td>10688893.60</td>\n      <td>2</td>\n      <td>13</td>\n      <td>2020-06-30 23:40:00</td>\n      <td>2020-06-29 23:40:00</td>\n    </tr>\n    <tr>\n      <th>43194</th>\n      <td>EURJPY</td>\n      <td>SPT</td>\n      <td>2020-06-30</td>\n      <td>2020-06-29</td>\n      <td>23</td>\n      <td>45</td>\n      <td>1686300.00</td>\n      <td>5508580.00</td>\n      <td>2</td>\n      <td>8</td>\n      <td>2020-06-30 23:45:00</td>\n      <td>2020-06-29 23:45:00</td>\n    </tr>\n    <tr>\n      <th>43196</th>\n      <td>EURJPY</td>\n      <td>SPT</td>\n      <td>2020-06-30</td>\n      <td>2020-06-29</td>\n      <td>23</td>\n      <td>50</td>\n      <td>631800.40</td>\n      <td>1756000.40</td>\n      <td>5</td>\n      <td>6</td>\n      <td>2020-06-30 23:50:00</td>\n      <td>2020-06-29 23:50:00</td>\n    </tr>\n    <tr>\n      <th>43198</th>\n      <td>EURJPY</td>\n      <td>SPT</td>\n      <td>2020-06-30</td>\n      <td>2020-06-29</td>\n      <td>23</td>\n      <td>55</td>\n      <td>0.00</td>\n      <td>4069604.00</td>\n      <td>0</td>\n      <td>6</td>\n      <td>2020-06-30 23:55:00</td>\n      <td>2020-06-29 23:55:00</td>\n    </tr>\n  </tbody>\n</table>\n<p>21600 rows × 12 columns</p>\n</div>"
     },
     "metadata": {},
     "execution_count": 40
    }
   ],
   "source": [
    "df_EURJPY_volume"
   ]
  },
  {
   "cell_type": "code",
   "execution_count": 54,
   "metadata": {},
   "outputs": [
    {
     "output_type": "execute_result",
     "data": {
      "text/plain": [
       "              day   time     open     high      low    close  unknown  \\\n",
       "0      2020.06.01  00:00  119.830  119.846  119.820  119.846        0   \n",
       "1      2020.06.01  00:01  119.845  119.868  119.842  119.868        0   \n",
       "2      2020.06.01  00:02  119.868  119.883  119.865  119.883        0   \n",
       "3      2020.06.01  00:03  119.881  119.895  119.878  119.885        0   \n",
       "4      2020.06.01  00:04  119.885  119.895  119.884  119.895        0   \n",
       "...           ...    ...      ...      ...      ...      ...      ...   \n",
       "31618  2020.06.30  23:54  120.952  120.952  120.944  120.944        0   \n",
       "31619  2020.06.30  23:55  120.944  120.944  120.935  120.935        0   \n",
       "31620  2020.06.30  23:56  120.935  120.935  120.913  120.917        0   \n",
       "31621  2020.06.30  23:57  120.917  120.917  120.866  120.873        0   \n",
       "31622  2020.06.30  23:58  120.874  120.897  120.865  120.890        0   \n",
       "\n",
       "      fx_business_date_datetime  \n",
       "0           2020-06-01 00:00:00  \n",
       "1           2020-06-01 00:01:00  \n",
       "2           2020-06-01 00:02:00  \n",
       "3           2020-06-01 00:03:00  \n",
       "4           2020-06-01 00:04:00  \n",
       "...                         ...  \n",
       "31618       2020-06-30 23:54:00  \n",
       "31619       2020-06-30 23:55:00  \n",
       "31620       2020-06-30 23:56:00  \n",
       "31621       2020-06-30 23:57:00  \n",
       "31622       2020-06-30 23:58:00  \n",
       "\n",
       "[31623 rows x 8 columns]"
      ],
      "text/html": "<div>\n<style scoped>\n    .dataframe tbody tr th:only-of-type {\n        vertical-align: middle;\n    }\n\n    .dataframe tbody tr th {\n        vertical-align: top;\n    }\n\n    .dataframe thead th {\n        text-align: right;\n    }\n</style>\n<table border=\"1\" class=\"dataframe\">\n  <thead>\n    <tr style=\"text-align: right;\">\n      <th></th>\n      <th>day</th>\n      <th>time</th>\n      <th>open</th>\n      <th>high</th>\n      <th>low</th>\n      <th>close</th>\n      <th>unknown</th>\n      <th>fx_business_date_datetime</th>\n    </tr>\n  </thead>\n  <tbody>\n    <tr>\n      <th>0</th>\n      <td>2020.06.01</td>\n      <td>00:00</td>\n      <td>119.830</td>\n      <td>119.846</td>\n      <td>119.820</td>\n      <td>119.846</td>\n      <td>0</td>\n      <td>2020-06-01 00:00:00</td>\n    </tr>\n    <tr>\n      <th>1</th>\n      <td>2020.06.01</td>\n      <td>00:01</td>\n      <td>119.845</td>\n      <td>119.868</td>\n      <td>119.842</td>\n      <td>119.868</td>\n      <td>0</td>\n      <td>2020-06-01 00:01:00</td>\n    </tr>\n    <tr>\n      <th>2</th>\n      <td>2020.06.01</td>\n      <td>00:02</td>\n      <td>119.868</td>\n      <td>119.883</td>\n      <td>119.865</td>\n      <td>119.883</td>\n      <td>0</td>\n      <td>2020-06-01 00:02:00</td>\n    </tr>\n    <tr>\n      <th>3</th>\n      <td>2020.06.01</td>\n      <td>00:03</td>\n      <td>119.881</td>\n      <td>119.895</td>\n      <td>119.878</td>\n      <td>119.885</td>\n      <td>0</td>\n      <td>2020-06-01 00:03:00</td>\n    </tr>\n    <tr>\n      <th>4</th>\n      <td>2020.06.01</td>\n      <td>00:04</td>\n      <td>119.885</td>\n      <td>119.895</td>\n      <td>119.884</td>\n      <td>119.895</td>\n      <td>0</td>\n      <td>2020-06-01 00:04:00</td>\n    </tr>\n    <tr>\n      <th>...</th>\n      <td>...</td>\n      <td>...</td>\n      <td>...</td>\n      <td>...</td>\n      <td>...</td>\n      <td>...</td>\n      <td>...</td>\n      <td>...</td>\n    </tr>\n    <tr>\n      <th>31618</th>\n      <td>2020.06.30</td>\n      <td>23:54</td>\n      <td>120.952</td>\n      <td>120.952</td>\n      <td>120.944</td>\n      <td>120.944</td>\n      <td>0</td>\n      <td>2020-06-30 23:54:00</td>\n    </tr>\n    <tr>\n      <th>31619</th>\n      <td>2020.06.30</td>\n      <td>23:55</td>\n      <td>120.944</td>\n      <td>120.944</td>\n      <td>120.935</td>\n      <td>120.935</td>\n      <td>0</td>\n      <td>2020-06-30 23:55:00</td>\n    </tr>\n    <tr>\n      <th>31620</th>\n      <td>2020.06.30</td>\n      <td>23:56</td>\n      <td>120.935</td>\n      <td>120.935</td>\n      <td>120.913</td>\n      <td>120.917</td>\n      <td>0</td>\n      <td>2020-06-30 23:56:00</td>\n    </tr>\n    <tr>\n      <th>31621</th>\n      <td>2020.06.30</td>\n      <td>23:57</td>\n      <td>120.917</td>\n      <td>120.917</td>\n      <td>120.866</td>\n      <td>120.873</td>\n      <td>0</td>\n      <td>2020-06-30 23:57:00</td>\n    </tr>\n    <tr>\n      <th>31622</th>\n      <td>2020.06.30</td>\n      <td>23:58</td>\n      <td>120.874</td>\n      <td>120.897</td>\n      <td>120.865</td>\n      <td>120.890</td>\n      <td>0</td>\n      <td>2020-06-30 23:58:00</td>\n    </tr>\n  </tbody>\n</table>\n<p>31623 rows × 8 columns</p>\n</div>"
     },
     "metadata": {},
     "execution_count": 54
    }
   ],
   "source": [
    "\n",
    "df_EURJPY['fx_business_date_datetime'] = df_EURJPY[['day', 'time']].apply(get_datetime2, axis=1)\n",
    "df_EURJPY"
   ]
  },
  {
   "cell_type": "code",
   "execution_count": 56,
   "metadata": {},
   "outputs": [
    {
     "output_type": "execute_result",
     "data": {
      "text/plain": [
       "              day   time     open     high      low    close  unknown  \\\n",
       "0      2020.06.01  00:00  119.830  119.846  119.820  119.846        0   \n",
       "1      2020.06.01  00:01  119.845  119.868  119.842  119.868        0   \n",
       "2      2020.06.01  00:02  119.868  119.883  119.865  119.883        0   \n",
       "3      2020.06.01  00:03  119.881  119.895  119.878  119.885        0   \n",
       "4      2020.06.01  00:04  119.885  119.895  119.884  119.895        0   \n",
       "...           ...    ...      ...      ...      ...      ...      ...   \n",
       "31618  2020.06.30  23:54  120.952  120.952  120.944  120.944        0   \n",
       "31619  2020.06.30  23:55  120.944  120.944  120.935  120.935        0   \n",
       "31620  2020.06.30  23:56  120.935  120.935  120.913  120.917        0   \n",
       "31621  2020.06.30  23:57  120.917  120.917  120.866  120.873        0   \n",
       "31622  2020.06.30  23:58  120.874  120.897  120.865  120.890        0   \n",
       "\n",
       "      fx_business_date_datetime currency instrument fx_business_date  \\\n",
       "0           2020-06-01 00:00:00   EURJPY        SPT       2020-06-01   \n",
       "1           2020-06-01 00:01:00      NaN        NaN              NaN   \n",
       "2           2020-06-01 00:02:00      NaN        NaN              NaN   \n",
       "3           2020-06-01 00:03:00      NaN        NaN              NaN   \n",
       "4           2020-06-01 00:04:00      NaN        NaN              NaN   \n",
       "...                         ...      ...        ...              ...   \n",
       "31618       2020-06-30 23:54:00      NaN        NaN              NaN   \n",
       "31619       2020-06-30 23:55:00   EURJPY        SPT       2020-06-30   \n",
       "31620       2020-06-30 23:56:00      NaN        NaN              NaN   \n",
       "31621       2020-06-30 23:57:00      NaN        NaN              NaN   \n",
       "31622       2020-06-30 23:58:00      NaN        NaN              NaN   \n",
       "\n",
       "      london_date  hour  minute  volume_matched  volume_matched_unmatched  \\\n",
       "0      2020-06-01   0.0     0.0      13197569.0                17119399.0   \n",
       "1             NaN   NaN     NaN             NaN                       NaN   \n",
       "2             NaN   NaN     NaN             NaN                       NaN   \n",
       "3             NaN   NaN     NaN             NaN                       NaN   \n",
       "4             NaN   NaN     NaN             NaN                       NaN   \n",
       "...           ...   ...     ...             ...                       ...   \n",
       "31618         NaN   NaN     NaN             NaN                       NaN   \n",
       "31619  2020-06-29  23.0    55.0             0.0                 4069604.0   \n",
       "31620         NaN   NaN     NaN             NaN                       NaN   \n",
       "31621         NaN   NaN     NaN             NaN                       NaN   \n",
       "31622         NaN   NaN     NaN             NaN                       NaN   \n",
       "\n",
       "       trades_matched  trades_matched_unmatched london_date_datetime  \n",
       "0                21.0                      27.0  2020-06-01 00:00:00  \n",
       "1                 NaN                       NaN                  NaT  \n",
       "2                 NaN                       NaN                  NaT  \n",
       "3                 NaN                       NaN                  NaT  \n",
       "4                 NaN                       NaN                  NaT  \n",
       "...               ...                       ...                  ...  \n",
       "31618             NaN                       NaN                  NaT  \n",
       "31619             0.0                       6.0  2020-06-29 23:55:00  \n",
       "31620             NaN                       NaN                  NaT  \n",
       "31621             NaN                       NaN                  NaT  \n",
       "31622             NaN                       NaN                  NaT  \n",
       "\n",
       "[31623 rows x 19 columns]"
      ],
      "text/html": "<div>\n<style scoped>\n    .dataframe tbody tr th:only-of-type {\n        vertical-align: middle;\n    }\n\n    .dataframe tbody tr th {\n        vertical-align: top;\n    }\n\n    .dataframe thead th {\n        text-align: right;\n    }\n</style>\n<table border=\"1\" class=\"dataframe\">\n  <thead>\n    <tr style=\"text-align: right;\">\n      <th></th>\n      <th>day</th>\n      <th>time</th>\n      <th>open</th>\n      <th>high</th>\n      <th>low</th>\n      <th>close</th>\n      <th>unknown</th>\n      <th>fx_business_date_datetime</th>\n      <th>currency</th>\n      <th>instrument</th>\n      <th>fx_business_date</th>\n      <th>london_date</th>\n      <th>hour</th>\n      <th>minute</th>\n      <th>volume_matched</th>\n      <th>volume_matched_unmatched</th>\n      <th>trades_matched</th>\n      <th>trades_matched_unmatched</th>\n      <th>london_date_datetime</th>\n    </tr>\n  </thead>\n  <tbody>\n    <tr>\n      <th>0</th>\n      <td>2020.06.01</td>\n      <td>00:00</td>\n      <td>119.830</td>\n      <td>119.846</td>\n      <td>119.820</td>\n      <td>119.846</td>\n      <td>0</td>\n      <td>2020-06-01 00:00:00</td>\n      <td>EURJPY</td>\n      <td>SPT</td>\n      <td>2020-06-01</td>\n      <td>2020-06-01</td>\n      <td>0.0</td>\n      <td>0.0</td>\n      <td>13197569.0</td>\n      <td>17119399.0</td>\n      <td>21.0</td>\n      <td>27.0</td>\n      <td>2020-06-01 00:00:00</td>\n    </tr>\n    <tr>\n      <th>1</th>\n      <td>2020.06.01</td>\n      <td>00:01</td>\n      <td>119.845</td>\n      <td>119.868</td>\n      <td>119.842</td>\n      <td>119.868</td>\n      <td>0</td>\n      <td>2020-06-01 00:01:00</td>\n      <td>NaN</td>\n      <td>NaN</td>\n      <td>NaN</td>\n      <td>NaN</td>\n      <td>NaN</td>\n      <td>NaN</td>\n      <td>NaN</td>\n      <td>NaN</td>\n      <td>NaN</td>\n      <td>NaN</td>\n      <td>NaT</td>\n    </tr>\n    <tr>\n      <th>2</th>\n      <td>2020.06.01</td>\n      <td>00:02</td>\n      <td>119.868</td>\n      <td>119.883</td>\n      <td>119.865</td>\n      <td>119.883</td>\n      <td>0</td>\n      <td>2020-06-01 00:02:00</td>\n      <td>NaN</td>\n      <td>NaN</td>\n      <td>NaN</td>\n      <td>NaN</td>\n      <td>NaN</td>\n      <td>NaN</td>\n      <td>NaN</td>\n      <td>NaN</td>\n      <td>NaN</td>\n      <td>NaN</td>\n      <td>NaT</td>\n    </tr>\n    <tr>\n      <th>3</th>\n      <td>2020.06.01</td>\n      <td>00:03</td>\n      <td>119.881</td>\n      <td>119.895</td>\n      <td>119.878</td>\n      <td>119.885</td>\n      <td>0</td>\n      <td>2020-06-01 00:03:00</td>\n      <td>NaN</td>\n      <td>NaN</td>\n      <td>NaN</td>\n      <td>NaN</td>\n      <td>NaN</td>\n      <td>NaN</td>\n      <td>NaN</td>\n      <td>NaN</td>\n      <td>NaN</td>\n      <td>NaN</td>\n      <td>NaT</td>\n    </tr>\n    <tr>\n      <th>4</th>\n      <td>2020.06.01</td>\n      <td>00:04</td>\n      <td>119.885</td>\n      <td>119.895</td>\n      <td>119.884</td>\n      <td>119.895</td>\n      <td>0</td>\n      <td>2020-06-01 00:04:00</td>\n      <td>NaN</td>\n      <td>NaN</td>\n      <td>NaN</td>\n      <td>NaN</td>\n      <td>NaN</td>\n      <td>NaN</td>\n      <td>NaN</td>\n      <td>NaN</td>\n      <td>NaN</td>\n      <td>NaN</td>\n      <td>NaT</td>\n    </tr>\n    <tr>\n      <th>...</th>\n      <td>...</td>\n      <td>...</td>\n      <td>...</td>\n      <td>...</td>\n      <td>...</td>\n      <td>...</td>\n      <td>...</td>\n      <td>...</td>\n      <td>...</td>\n      <td>...</td>\n      <td>...</td>\n      <td>...</td>\n      <td>...</td>\n      <td>...</td>\n      <td>...</td>\n      <td>...</td>\n      <td>...</td>\n      <td>...</td>\n      <td>...</td>\n    </tr>\n    <tr>\n      <th>31618</th>\n      <td>2020.06.30</td>\n      <td>23:54</td>\n      <td>120.952</td>\n      <td>120.952</td>\n      <td>120.944</td>\n      <td>120.944</td>\n      <td>0</td>\n      <td>2020-06-30 23:54:00</td>\n      <td>NaN</td>\n      <td>NaN</td>\n      <td>NaN</td>\n      <td>NaN</td>\n      <td>NaN</td>\n      <td>NaN</td>\n      <td>NaN</td>\n      <td>NaN</td>\n      <td>NaN</td>\n      <td>NaN</td>\n      <td>NaT</td>\n    </tr>\n    <tr>\n      <th>31619</th>\n      <td>2020.06.30</td>\n      <td>23:55</td>\n      <td>120.944</td>\n      <td>120.944</td>\n      <td>120.935</td>\n      <td>120.935</td>\n      <td>0</td>\n      <td>2020-06-30 23:55:00</td>\n      <td>EURJPY</td>\n      <td>SPT</td>\n      <td>2020-06-30</td>\n      <td>2020-06-29</td>\n      <td>23.0</td>\n      <td>55.0</td>\n      <td>0.0</td>\n      <td>4069604.0</td>\n      <td>0.0</td>\n      <td>6.0</td>\n      <td>2020-06-29 23:55:00</td>\n    </tr>\n    <tr>\n      <th>31620</th>\n      <td>2020.06.30</td>\n      <td>23:56</td>\n      <td>120.935</td>\n      <td>120.935</td>\n      <td>120.913</td>\n      <td>120.917</td>\n      <td>0</td>\n      <td>2020-06-30 23:56:00</td>\n      <td>NaN</td>\n      <td>NaN</td>\n      <td>NaN</td>\n      <td>NaN</td>\n      <td>NaN</td>\n      <td>NaN</td>\n      <td>NaN</td>\n      <td>NaN</td>\n      <td>NaN</td>\n      <td>NaN</td>\n      <td>NaT</td>\n    </tr>\n    <tr>\n      <th>31621</th>\n      <td>2020.06.30</td>\n      <td>23:57</td>\n      <td>120.917</td>\n      <td>120.917</td>\n      <td>120.866</td>\n      <td>120.873</td>\n      <td>0</td>\n      <td>2020-06-30 23:57:00</td>\n      <td>NaN</td>\n      <td>NaN</td>\n      <td>NaN</td>\n      <td>NaN</td>\n      <td>NaN</td>\n      <td>NaN</td>\n      <td>NaN</td>\n      <td>NaN</td>\n      <td>NaN</td>\n      <td>NaN</td>\n      <td>NaT</td>\n    </tr>\n    <tr>\n      <th>31622</th>\n      <td>2020.06.30</td>\n      <td>23:58</td>\n      <td>120.874</td>\n      <td>120.897</td>\n      <td>120.865</td>\n      <td>120.890</td>\n      <td>0</td>\n      <td>2020-06-30 23:58:00</td>\n      <td>NaN</td>\n      <td>NaN</td>\n      <td>NaN</td>\n      <td>NaN</td>\n      <td>NaN</td>\n      <td>NaN</td>\n      <td>NaN</td>\n      <td>NaN</td>\n      <td>NaN</td>\n      <td>NaN</td>\n      <td>NaT</td>\n    </tr>\n  </tbody>\n</table>\n<p>31623 rows × 19 columns</p>\n</div>"
     },
     "metadata": {},
     "execution_count": 56
    }
   ],
   "source": [
    "df_fx_EURJPY = pd.merge(df_EURJPY, df_EURJPY_volume, on='fx_business_date_datetime', how='left')\n",
    "df_fx_EURJPY"
   ]
  },
  {
   "cell_type": "code",
   "execution_count": 60,
   "metadata": {},
   "outputs": [
    {
     "output_type": "execute_result",
     "data": {
      "text/plain": [
       "      fx_business_date_datetime  volume_matched  volume_matched_unmatched  \\\n",
       "0           2020-06-01 00:00:00      13197569.0                17119399.0   \n",
       "1           2020-06-01 00:01:00             NaN                       NaN   \n",
       "2           2020-06-01 00:02:00             NaN                       NaN   \n",
       "3           2020-06-01 00:03:00             NaN                       NaN   \n",
       "4           2020-06-01 00:04:00             NaN                       NaN   \n",
       "...                         ...             ...                       ...   \n",
       "31618       2020-06-30 23:54:00             NaN                       NaN   \n",
       "31619       2020-06-30 23:55:00             0.0                 4069604.0   \n",
       "31620       2020-06-30 23:56:00             NaN                       NaN   \n",
       "31621       2020-06-30 23:57:00             NaN                       NaN   \n",
       "31622       2020-06-30 23:58:00             NaN                       NaN   \n",
       "\n",
       "       trades_matched  trades_matched_unmatched     open     high      low  \\\n",
       "0                21.0                      27.0  119.830  119.846  119.820   \n",
       "1                 NaN                       NaN  119.845  119.868  119.842   \n",
       "2                 NaN                       NaN  119.868  119.883  119.865   \n",
       "3                 NaN                       NaN  119.881  119.895  119.878   \n",
       "4                 NaN                       NaN  119.885  119.895  119.884   \n",
       "...               ...                       ...      ...      ...      ...   \n",
       "31618             NaN                       NaN  120.952  120.952  120.944   \n",
       "31619             0.0                       6.0  120.944  120.944  120.935   \n",
       "31620             NaN                       NaN  120.935  120.935  120.913   \n",
       "31621             NaN                       NaN  120.917  120.917  120.866   \n",
       "31622             NaN                       NaN  120.874  120.897  120.865   \n",
       "\n",
       "         close  \n",
       "0      119.846  \n",
       "1      119.868  \n",
       "2      119.883  \n",
       "3      119.885  \n",
       "4      119.895  \n",
       "...        ...  \n",
       "31618  120.944  \n",
       "31619  120.935  \n",
       "31620  120.917  \n",
       "31621  120.873  \n",
       "31622  120.890  \n",
       "\n",
       "[31623 rows x 9 columns]"
      ],
      "text/html": "<div>\n<style scoped>\n    .dataframe tbody tr th:only-of-type {\n        vertical-align: middle;\n    }\n\n    .dataframe tbody tr th {\n        vertical-align: top;\n    }\n\n    .dataframe thead th {\n        text-align: right;\n    }\n</style>\n<table border=\"1\" class=\"dataframe\">\n  <thead>\n    <tr style=\"text-align: right;\">\n      <th></th>\n      <th>fx_business_date_datetime</th>\n      <th>volume_matched</th>\n      <th>volume_matched_unmatched</th>\n      <th>trades_matched</th>\n      <th>trades_matched_unmatched</th>\n      <th>open</th>\n      <th>high</th>\n      <th>low</th>\n      <th>close</th>\n    </tr>\n  </thead>\n  <tbody>\n    <tr>\n      <th>0</th>\n      <td>2020-06-01 00:00:00</td>\n      <td>13197569.0</td>\n      <td>17119399.0</td>\n      <td>21.0</td>\n      <td>27.0</td>\n      <td>119.830</td>\n      <td>119.846</td>\n      <td>119.820</td>\n      <td>119.846</td>\n    </tr>\n    <tr>\n      <th>1</th>\n      <td>2020-06-01 00:01:00</td>\n      <td>NaN</td>\n      <td>NaN</td>\n      <td>NaN</td>\n      <td>NaN</td>\n      <td>119.845</td>\n      <td>119.868</td>\n      <td>119.842</td>\n      <td>119.868</td>\n    </tr>\n    <tr>\n      <th>2</th>\n      <td>2020-06-01 00:02:00</td>\n      <td>NaN</td>\n      <td>NaN</td>\n      <td>NaN</td>\n      <td>NaN</td>\n      <td>119.868</td>\n      <td>119.883</td>\n      <td>119.865</td>\n      <td>119.883</td>\n    </tr>\n    <tr>\n      <th>3</th>\n      <td>2020-06-01 00:03:00</td>\n      <td>NaN</td>\n      <td>NaN</td>\n      <td>NaN</td>\n      <td>NaN</td>\n      <td>119.881</td>\n      <td>119.895</td>\n      <td>119.878</td>\n      <td>119.885</td>\n    </tr>\n    <tr>\n      <th>4</th>\n      <td>2020-06-01 00:04:00</td>\n      <td>NaN</td>\n      <td>NaN</td>\n      <td>NaN</td>\n      <td>NaN</td>\n      <td>119.885</td>\n      <td>119.895</td>\n      <td>119.884</td>\n      <td>119.895</td>\n    </tr>\n    <tr>\n      <th>...</th>\n      <td>...</td>\n      <td>...</td>\n      <td>...</td>\n      <td>...</td>\n      <td>...</td>\n      <td>...</td>\n      <td>...</td>\n      <td>...</td>\n      <td>...</td>\n    </tr>\n    <tr>\n      <th>31618</th>\n      <td>2020-06-30 23:54:00</td>\n      <td>NaN</td>\n      <td>NaN</td>\n      <td>NaN</td>\n      <td>NaN</td>\n      <td>120.952</td>\n      <td>120.952</td>\n      <td>120.944</td>\n      <td>120.944</td>\n    </tr>\n    <tr>\n      <th>31619</th>\n      <td>2020-06-30 23:55:00</td>\n      <td>0.0</td>\n      <td>4069604.0</td>\n      <td>0.0</td>\n      <td>6.0</td>\n      <td>120.944</td>\n      <td>120.944</td>\n      <td>120.935</td>\n      <td>120.935</td>\n    </tr>\n    <tr>\n      <th>31620</th>\n      <td>2020-06-30 23:56:00</td>\n      <td>NaN</td>\n      <td>NaN</td>\n      <td>NaN</td>\n      <td>NaN</td>\n      <td>120.935</td>\n      <td>120.935</td>\n      <td>120.913</td>\n      <td>120.917</td>\n    </tr>\n    <tr>\n      <th>31621</th>\n      <td>2020-06-30 23:57:00</td>\n      <td>NaN</td>\n      <td>NaN</td>\n      <td>NaN</td>\n      <td>NaN</td>\n      <td>120.917</td>\n      <td>120.917</td>\n      <td>120.866</td>\n      <td>120.873</td>\n    </tr>\n    <tr>\n      <th>31622</th>\n      <td>2020-06-30 23:58:00</td>\n      <td>NaN</td>\n      <td>NaN</td>\n      <td>NaN</td>\n      <td>NaN</td>\n      <td>120.874</td>\n      <td>120.897</td>\n      <td>120.865</td>\n      <td>120.890</td>\n    </tr>\n  </tbody>\n</table>\n<p>31623 rows × 9 columns</p>\n</div>"
     },
     "metadata": {},
     "execution_count": 60
    }
   ],
   "source": [
    "#　為替は終値を使用\n",
    "df = df_fx_EURJPY[['fx_business_date_datetime', 'volume_matched', 'volume_matched_unmatched', 'trades_matched', 'trades_matched_unmatched', 'open','high','low','close']]\n",
    "df"
   ]
  },
  {
   "cell_type": "code",
   "execution_count": 61,
   "metadata": {},
   "outputs": [
    {
     "output_type": "execute_result",
     "data": {
      "text/plain": [
       "      fx_business_date_datetime  volume_matched  volume_matched_unmatched  \\\n",
       "0           2020-06-01 00:00:00      13197569.0                17119399.0   \n",
       "5           2020-06-01 00:05:00       2798609.0                 6033841.0   \n",
       "10          2020-06-01 00:10:00       5328356.0                 8439156.0   \n",
       "15          2020-06-01 00:15:00       7669233.0                14446333.0   \n",
       "20          2020-06-01 00:20:00       9082425.0                14776300.0   \n",
       "...                         ...             ...                       ...   \n",
       "31599       2020-06-30 23:35:00       3507504.0                13737724.0   \n",
       "31604       2020-06-30 23:40:00       1349040.0                10688893.6   \n",
       "31609       2020-06-30 23:45:00       1686300.0                 5508580.0   \n",
       "31614       2020-06-30 23:50:00        631800.4                 1756000.4   \n",
       "31619       2020-06-30 23:55:00             0.0                 4069604.0   \n",
       "\n",
       "       trades_matched  trades_matched_unmatched     open     high      low  \\\n",
       "0                21.0                      27.0  119.830  119.846  119.820   \n",
       "5                 6.0                      10.0  119.895  119.900  119.894   \n",
       "10               10.0                      13.0  119.881  119.889  119.876   \n",
       "15               11.0                      20.0  119.877  119.882  119.855   \n",
       "20               18.0                      26.0  119.827  119.831  119.827   \n",
       "...               ...                       ...      ...      ...      ...   \n",
       "31599             7.0                      14.0  121.018  121.033  121.018   \n",
       "31604             2.0                      13.0  121.013  121.018  120.993   \n",
       "31609             2.0                       8.0  121.005  121.009  120.972   \n",
       "31614             5.0                       6.0  120.964  120.982  120.964   \n",
       "31619             0.0                       6.0  120.944  120.944  120.935   \n",
       "\n",
       "         close  \n",
       "0      119.846  \n",
       "5      119.895  \n",
       "10     119.879  \n",
       "15     119.859  \n",
       "20     119.831  \n",
       "...        ...  \n",
       "31599  121.033  \n",
       "31604  120.995  \n",
       "31609  120.978  \n",
       "31614  120.981  \n",
       "31619  120.935  \n",
       "\n",
       "[5998 rows x 9 columns]"
      ],
      "text/html": "<div>\n<style scoped>\n    .dataframe tbody tr th:only-of-type {\n        vertical-align: middle;\n    }\n\n    .dataframe tbody tr th {\n        vertical-align: top;\n    }\n\n    .dataframe thead th {\n        text-align: right;\n    }\n</style>\n<table border=\"1\" class=\"dataframe\">\n  <thead>\n    <tr style=\"text-align: right;\">\n      <th></th>\n      <th>fx_business_date_datetime</th>\n      <th>volume_matched</th>\n      <th>volume_matched_unmatched</th>\n      <th>trades_matched</th>\n      <th>trades_matched_unmatched</th>\n      <th>open</th>\n      <th>high</th>\n      <th>low</th>\n      <th>close</th>\n    </tr>\n  </thead>\n  <tbody>\n    <tr>\n      <th>0</th>\n      <td>2020-06-01 00:00:00</td>\n      <td>13197569.0</td>\n      <td>17119399.0</td>\n      <td>21.0</td>\n      <td>27.0</td>\n      <td>119.830</td>\n      <td>119.846</td>\n      <td>119.820</td>\n      <td>119.846</td>\n    </tr>\n    <tr>\n      <th>5</th>\n      <td>2020-06-01 00:05:00</td>\n      <td>2798609.0</td>\n      <td>6033841.0</td>\n      <td>6.0</td>\n      <td>10.0</td>\n      <td>119.895</td>\n      <td>119.900</td>\n      <td>119.894</td>\n      <td>119.895</td>\n    </tr>\n    <tr>\n      <th>10</th>\n      <td>2020-06-01 00:10:00</td>\n      <td>5328356.0</td>\n      <td>8439156.0</td>\n      <td>10.0</td>\n      <td>13.0</td>\n      <td>119.881</td>\n      <td>119.889</td>\n      <td>119.876</td>\n      <td>119.879</td>\n    </tr>\n    <tr>\n      <th>15</th>\n      <td>2020-06-01 00:15:00</td>\n      <td>7669233.0</td>\n      <td>14446333.0</td>\n      <td>11.0</td>\n      <td>20.0</td>\n      <td>119.877</td>\n      <td>119.882</td>\n      <td>119.855</td>\n      <td>119.859</td>\n    </tr>\n    <tr>\n      <th>20</th>\n      <td>2020-06-01 00:20:00</td>\n      <td>9082425.0</td>\n      <td>14776300.0</td>\n      <td>18.0</td>\n      <td>26.0</td>\n      <td>119.827</td>\n      <td>119.831</td>\n      <td>119.827</td>\n      <td>119.831</td>\n    </tr>\n    <tr>\n      <th>...</th>\n      <td>...</td>\n      <td>...</td>\n      <td>...</td>\n      <td>...</td>\n      <td>...</td>\n      <td>...</td>\n      <td>...</td>\n      <td>...</td>\n      <td>...</td>\n    </tr>\n    <tr>\n      <th>31599</th>\n      <td>2020-06-30 23:35:00</td>\n      <td>3507504.0</td>\n      <td>13737724.0</td>\n      <td>7.0</td>\n      <td>14.0</td>\n      <td>121.018</td>\n      <td>121.033</td>\n      <td>121.018</td>\n      <td>121.033</td>\n    </tr>\n    <tr>\n      <th>31604</th>\n      <td>2020-06-30 23:40:00</td>\n      <td>1349040.0</td>\n      <td>10688893.6</td>\n      <td>2.0</td>\n      <td>13.0</td>\n      <td>121.013</td>\n      <td>121.018</td>\n      <td>120.993</td>\n      <td>120.995</td>\n    </tr>\n    <tr>\n      <th>31609</th>\n      <td>2020-06-30 23:45:00</td>\n      <td>1686300.0</td>\n      <td>5508580.0</td>\n      <td>2.0</td>\n      <td>8.0</td>\n      <td>121.005</td>\n      <td>121.009</td>\n      <td>120.972</td>\n      <td>120.978</td>\n    </tr>\n    <tr>\n      <th>31614</th>\n      <td>2020-06-30 23:50:00</td>\n      <td>631800.4</td>\n      <td>1756000.4</td>\n      <td>5.0</td>\n      <td>6.0</td>\n      <td>120.964</td>\n      <td>120.982</td>\n      <td>120.964</td>\n      <td>120.981</td>\n    </tr>\n    <tr>\n      <th>31619</th>\n      <td>2020-06-30 23:55:00</td>\n      <td>0.0</td>\n      <td>4069604.0</td>\n      <td>0.0</td>\n      <td>6.0</td>\n      <td>120.944</td>\n      <td>120.944</td>\n      <td>120.935</td>\n      <td>120.935</td>\n    </tr>\n  </tbody>\n</table>\n<p>5998 rows × 9 columns</p>\n</div>"
     },
     "metadata": {},
     "execution_count": 61
    }
   ],
   "source": [
    "df = df.dropna()\n",
    "df"
   ]
  },
  {
   "cell_type": "code",
   "execution_count": null,
   "metadata": {},
   "outputs": [],
   "source": []
  }
 ]
}